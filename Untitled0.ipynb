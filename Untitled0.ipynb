{
  "nbformat": 4,
  "nbformat_minor": 0,
  "metadata": {
    "colab": {
      "provenance": [],
      "authorship_tag": "ABX9TyNZixFzeNFhLCefA6ygVl6M",
      "include_colab_link": true
    },
    "kernelspec": {
      "name": "python3",
      "display_name": "Python 3"
    },
    "language_info": {
      "name": "python"
    }
  },
  "cells": [
    {
      "cell_type": "markdown",
      "metadata": {
        "id": "view-in-github",
        "colab_type": "text"
      },
      "source": [
        "<a href=\"https://colab.research.google.com/github/Vasil03/Progetto-Recupero-Classe/blob/master/Untitled0.ipynb\" target=\"_parent\"><img src=\"https://colab.research.google.com/assets/colab-badge.svg\" alt=\"Open In Colab\"/></a>"
      ]
    },
    {
      "cell_type": "code",
      "source": [
        "def invhorner(numero):\n",
        "  sequenza = ''\n",
        "  while(numero > 0):\n",
        "    bit = numero % 2\n",
        "    sequenza = sequenza + str(bit)\n",
        "    numero = int((numero - bit) / 2)\n",
        "  return sequenza[::-1]"
      ],
      "metadata": {
        "id": "Yp_kmvgonXUF"
      },
      "execution_count": null,
      "outputs": []
    },
    {
      "cell_type": "code",
      "source": [
        "def horner(sequenza):\n",
        "  numero = 0;\n",
        "  for bit in sequenza:\n",
        "    numero = (numero * 2) + int(bit)\n",
        "  return numero"
      ],
      "metadata": {
        "id": "aRdsbXBgmqBY"
      },
      "execution_count": null,
      "outputs": []
    },
    {
      "cell_type": "code",
      "source": [
        "def horner_fraz(sequenza):\n",
        "  sequenza = sequenza[::-1]\n",
        "  numero = 0.0\n",
        "  for bit in sequenza:\n",
        "    numero = numero / 2.0 + int(bit)\n",
        "  return numero / 2"
      ],
      "metadata": {
        "id": "TihRZ1wsvV8V"
      },
      "execution_count": null,
      "outputs": []
    },
    {
      "cell_type": "code",
      "source": [
        "def inv_horner_fraz():\n"
      ],
      "metadata": {
        "id": "-lvYLuT14Ct5"
      },
      "execution_count": null,
      "outputs": []
    },
    {
      "cell_type": "code",
      "source": [
        "def seq2float (sequenza):\n",
        "  bit_segno = seq[0]\n",
        "  bits_exp = seq[1:9]\n",
        "  bits_mant = seq[9:]\n",
        "\n",
        "  print(bit_segno)\n",
        "  print(bits_exp, len(bits_exp))\n",
        "  print(bits_mant, len(bits_mant))\n",
        "\n",
        "  if int(bit_segno) == 0:\n",
        "    segno = +1\n",
        "  else:\n",
        "    segno = -1\n",
        "\n",
        "  exp = horner(bits_exp) - 127\n",
        "\n",
        "  mantissa = 1.0 + horner_fraz(bits_mant)\n",
        "  return segno * mantissa * 2**exp"
      ],
      "metadata": {
        "id": "oKD9LluTyqb6"
      },
      "execution_count": null,
      "outputs": []
    },
    {
      "cell_type": "code",
      "execution_count": null,
      "metadata": {
        "colab": {
          "base_uri": "https://localhost:8080/"
        },
        "id": "AfKBGHyijj8d",
        "outputId": "9d793129-2e29-4d72-e48d-380d16b24ba6"
      },
      "outputs": [
        {
          "output_type": "stream",
          "name": "stdout",
          "text": [
            "45872\n"
          ]
        }
      ],
      "source": [
        "bits = [1,0,1,1,0,0,1,1,0,0,1,1,0,0,0,0]\n",
        "print(horner(bits))"
      ]
    },
    {
      "cell_type": "code",
      "source": [
        "numero = 1007\n",
        "print(invhorner(numero))"
      ],
      "metadata": {
        "colab": {
          "base_uri": "https://localhost:8080/"
        },
        "id": "lWxT3TJ6ncXT",
        "outputId": "a66b5fbf-e766-4a83-f162-2f76860d60e3"
      },
      "execution_count": null,
      "outputs": [
        {
          "output_type": "stream",
          "name": "stdout",
          "text": [
            "1111011111\n"
          ]
        }
      ]
    },
    {
      "cell_type": "code",
      "source": [
        "bits = '01000100000001110000100001010010'\n",
        "\n",
        "print(seq2float(bits))\n"
      ],
      "metadata": {
        "colab": {
          "base_uri": "https://localhost:8080/"
        },
        "id": "6T_CR-WDrFqB",
        "outputId": "1f1ae4f1-18d7-4b41-d7cc-90636f29bcaa"
      },
      "execution_count": null,
      "outputs": [
        {
          "output_type": "stream",
          "name": "stdout",
          "text": [
            "0\n",
            "10001000 8\n",
            "00001110000100001010010 23\n",
            "540.1300048828125\n"
          ]
        }
      ]
    },
    {
      "cell_type": "code",
      "source": [
        "numero = -16.13\n",
        "sequenza = [0 for _ in range(32)]\n",
        "if numero < 0:\n",
        "  sequenza[0] = 1\n",
        "else:\n",
        "  sequenza[0] = 0\n",
        "\n",
        "numero = abs(numero)\n",
        "print(numero)\n",
        "\n",
        "parte_intera = int(numero)\n",
        "print(parte_intera)\n",
        "\n",
        "parte_fraz = numero - parte_intera\n",
        "print(parte_fraz)\n",
        "\n",
        "bits_sx = invhorner(parte_intera)\n",
        "bits_dx = inv_horner_fraz(parte_fraz)\n",
        "\n",
        "bits_mantissa = bits_sx[1:] + bits_dx[:]\n",
        "bits_mantissa = bits_mantissa[:23]\n",
        "esponente = len(bits_sx) - 1"
      ],
      "metadata": {
        "colab": {
          "base_uri": "https://localhost:8080/",
          "height": 402
        },
        "id": "p-zV7NTX0HHV",
        "outputId": "4c7348cd-63cd-49dc-9f99-c0b2a21c63e9"
      },
      "execution_count": null,
      "outputs": [
        {
          "output_type": "stream",
          "name": "stdout",
          "text": [
            "16.13\n",
            "16\n",
            "0.129999999999999\n",
            "10000\n"
          ]
        },
        {
          "output_type": "error",
          "ename": "TypeError",
          "evalue": "ignored",
          "traceback": [
            "\u001b[0;31m---------------------------------------------------------------------------\u001b[0m",
            "\u001b[0;31mTypeError\u001b[0m                                 Traceback (most recent call last)",
            "\u001b[0;32m<ipython-input-77-49880b50ae52>\u001b[0m in \u001b[0;36m<cell line: 18>\u001b[0;34m()\u001b[0m\n\u001b[1;32m     16\u001b[0m \u001b[0;34m\u001b[0m\u001b[0m\n\u001b[1;32m     17\u001b[0m \u001b[0mprint\u001b[0m\u001b[0;34m(\u001b[0m\u001b[0minvhorner\u001b[0m\u001b[0;34m(\u001b[0m\u001b[0mparte_intera\u001b[0m\u001b[0;34m)\u001b[0m\u001b[0;34m)\u001b[0m\u001b[0;34m\u001b[0m\u001b[0;34m\u001b[0m\u001b[0m\n\u001b[0;32m---> 18\u001b[0;31m \u001b[0mprint\u001b[0m\u001b[0;34m(\u001b[0m\u001b[0mhorner_fraz\u001b[0m\u001b[0;34m(\u001b[0m\u001b[0mparte_fraz\u001b[0m\u001b[0;34m)\u001b[0m\u001b[0;34m)\u001b[0m\u001b[0;34m\u001b[0m\u001b[0;34m\u001b[0m\u001b[0m\n\u001b[0m",
            "\u001b[0;32m<ipython-input-60-37af65f56284>\u001b[0m in \u001b[0;36mhorner_fraz\u001b[0;34m(sequenza)\u001b[0m\n\u001b[1;32m      1\u001b[0m \u001b[0;32mdef\u001b[0m \u001b[0mhorner_fraz\u001b[0m\u001b[0;34m(\u001b[0m\u001b[0msequenza\u001b[0m\u001b[0;34m)\u001b[0m\u001b[0;34m:\u001b[0m\u001b[0;34m\u001b[0m\u001b[0;34m\u001b[0m\u001b[0m\n\u001b[0;32m----> 2\u001b[0;31m   \u001b[0msequenza\u001b[0m \u001b[0;34m=\u001b[0m \u001b[0msequenza\u001b[0m\u001b[0;34m[\u001b[0m\u001b[0;34m:\u001b[0m\u001b[0;34m:\u001b[0m\u001b[0;34m-\u001b[0m\u001b[0;36m1\u001b[0m\u001b[0;34m]\u001b[0m\u001b[0;34m\u001b[0m\u001b[0;34m\u001b[0m\u001b[0m\n\u001b[0m\u001b[1;32m      3\u001b[0m   \u001b[0mnumero\u001b[0m \u001b[0;34m=\u001b[0m \u001b[0;36m0.0\u001b[0m\u001b[0;34m\u001b[0m\u001b[0;34m\u001b[0m\u001b[0m\n\u001b[1;32m      4\u001b[0m   \u001b[0;32mfor\u001b[0m \u001b[0mbit\u001b[0m \u001b[0;32min\u001b[0m \u001b[0msequenza\u001b[0m\u001b[0;34m:\u001b[0m\u001b[0;34m\u001b[0m\u001b[0;34m\u001b[0m\u001b[0m\n\u001b[1;32m      5\u001b[0m     \u001b[0mnumero\u001b[0m \u001b[0;34m=\u001b[0m \u001b[0mnumero\u001b[0m \u001b[0;34m/\u001b[0m \u001b[0;36m2.0\u001b[0m \u001b[0;34m+\u001b[0m \u001b[0mint\u001b[0m\u001b[0;34m(\u001b[0m\u001b[0mbit\u001b[0m\u001b[0;34m)\u001b[0m\u001b[0;34m\u001b[0m\u001b[0;34m\u001b[0m\u001b[0m\n",
            "\u001b[0;31mTypeError\u001b[0m: 'float' object is not subscriptable"
          ]
        }
      ]
    }
  ]
}